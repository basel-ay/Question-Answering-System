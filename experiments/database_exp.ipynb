{
 "cells": [
  {
   "cell_type": "code",
   "execution_count": 1,
   "metadata": {},
   "outputs": [],
   "source": [
    "import mysql.connector\n",
    "from mysql.connector import Error"
   ]
  },
  {
   "cell_type": "code",
   "execution_count": 2,
   "metadata": {},
   "outputs": [
    {
     "name": "stdout",
     "output_type": "stream",
     "text": [
      "MySQL Database connection successful\n"
     ]
    }
   ],
   "source": [
    "def create_server_connection(host_name, user_name, user_password):\n",
    "\n",
    "    connection = None\n",
    "\n",
    "    try:\n",
    "        connection = mysql.connector.connect(\n",
    "            host=host_name,\n",
    "            user=user_name,\n",
    "            passwd=user_password,\n",
    "            auth_plugin=\"mysql_native_password\",\n",
    "            buffered=True,\n",
    "        )\n",
    "\n",
    "        print(\"MySQL Database connection successful\")\n",
    "        return connection\n",
    "\n",
    "    except Error as err:\n",
    "        print(f\"Error: {err}\")\n",
    "\n",
    "\n",
    "pw = \"qwerasdf1@\"\n",
    "connection = create_server_connection(\"localhost\", \"root\", pw)"
   ]
  },
  {
   "cell_type": "code",
   "execution_count": 4,
   "metadata": {},
   "outputs": [
    {
     "name": "stdout",
     "output_type": "stream",
     "text": [
      "Query was successful\n",
      "Query was successful\n"
     ]
    }
   ],
   "source": [
    "# # Execute sql query\n",
    "# def execute_query(connection, query):\n",
    "#     \"\"\"\n",
    "#     exqcute a specific query\n",
    "#     \"\"\"\n",
    "#     cursor = connection.cursor()\n",
    "#     try:\n",
    "#         cursor.execute(query)\n",
    "#         connection.commit()\n",
    "#         print(\"Query was successful\")\n",
    "\n",
    "#     except Error as err:\n",
    "#         print(f\"Error: '{err}'\")\n",
    "\n",
    "\n",
    "# # execute_query(connection, 'CREATE DATABASE qa_database;')\n",
    "# # execute_query(connection, 'USE qa_database;')"
   ]
  },
  {
   "cell_type": "code",
   "execution_count": 20,
   "metadata": {},
   "outputs": [
    {
     "name": "stdout",
     "output_type": "stream",
     "text": [
      "Error: '1007 (HY000): Can't create database 'qa_database'; database exists'\n"
     ]
    }
   ],
   "source": [
    "def execute_query(connection, query):\n",
    "    \"\"\"\n",
    "    return all results from a queries\n",
    "    \"\"\"\n",
    "    cursor = connection.cursor()\n",
    "    try:\n",
    "        cursor.execute(query)\n",
    "        results = cursor.fetchall()\n",
    "        return results\n",
    "\n",
    "    except Error as err:\n",
    "        print(f\"Error: '{err}'\")\n",
    "\n",
    "\n",
    "query = \"\"\"\n",
    "\n",
    "CREATE DATABASE qa_database;\n",
    "USE qa_database;\n",
    "\n",
    "\"\"\"\n",
    "execute_query(connection, query)"
   ]
  },
  {
   "cell_type": "code",
   "execution_count": 21,
   "metadata": {},
   "outputs": [
    {
     "name": "stdout",
     "output_type": "stream",
     "text": [
      "Error: '1050 (42S01): Table 'qa_table2' already exists'\n"
     ]
    }
   ],
   "source": [
    "query = \"\"\"\n",
    "\n",
    "CREATE TABLE qa_table2 (\n",
    "    question TEXT,\n",
    "    answer TEXT\n",
    ");\n",
    "\n",
    "\"\"\"\n",
    "execute_query(connection, query)"
   ]
  },
  {
   "cell_type": "code",
   "execution_count": 26,
   "metadata": {},
   "outputs": [
    {
     "data": {
      "text/plain": [
       "[('What is your name?', 'My name is Basel'),\n",
       " ('What is the capital of France?', 'Paris'),\n",
       " ('How old are you?', 'I am an AI bot')]"
      ]
     },
     "execution_count": 26,
     "metadata": {},
     "output_type": "execute_result"
    }
   ],
   "source": [
    "# Insert some common questions and answers into the database\n",
    "insert_data_query = \"\"\"\n",
    "\n",
    "INSERT INTO qa_table (question, answer) VALUES \n",
    "(\n",
    "    (\"What is your name?\", \"My name is Basel.\"),\n",
    "    (\"What is the capital of France?\", \"PSG\"),\n",
    "    (\"How old are you?\", \"I am an AI bot.\")\n",
    ");\n",
    "\n",
    "\"\"\"\n",
    "\n",
    "select_query = \"\"\"SELECT * FROM qa_table;\"\"\"\n",
    "\n",
    "execute_query(connection, select_query)"
   ]
  },
  {
   "cell_type": "code",
   "execution_count": 39,
   "metadata": {},
   "outputs": [
    {
     "data": {
      "text/plain": [
       "'My name is Basel'"
      ]
     },
     "execution_count": 39,
     "metadata": {},
     "output_type": "execute_result"
    }
   ],
   "source": [
    "question = \"What is your name?\"\n",
    "db_cursor = connection.cursor()\n",
    "db_cursor.execute(\"SELECT answer FROM qa_table WHERE question = %s\", (question,))\n",
    "result = db_cursor.fetchone()\n",
    "result[0]\n"
   ]
  },
  {
   "cell_type": "code",
   "execution_count": 41,
   "metadata": {},
   "outputs": [
    {
     "name": "stdout",
     "output_type": "stream",
     "text": [
      "Running on local URL:  http://127.0.0.1:7861\n",
      "\n",
      "To create a public link, set `share=True` in `launch()`.\n"
     ]
    },
    {
     "data": {
      "text/html": [
       "<div><iframe src=\"http://127.0.0.1:7861/\" width=\"100%\" height=\"500\" allow=\"autoplay; camera; microphone; clipboard-read; clipboard-write;\" frameborder=\"0\" allowfullscreen></iframe></div>"
      ],
      "text/plain": [
       "<IPython.core.display.HTML object>"
      ]
     },
     "metadata": {},
     "output_type": "display_data"
    },
    {
     "data": {
      "text/plain": []
     },
     "execution_count": 41,
     "metadata": {},
     "output_type": "execute_result"
    }
   ],
   "source": [
    "import re\n",
    "import string\n",
    "\n",
    "\n",
    "def preprocess_document(doc_bytes):\n",
    "    \"\"\"\n",
    "    Args:\n",
    "        :param doc_bytes: The document to be processed.\n",
    "\n",
    "    Returns:\n",
    "        :rtype: str\n",
    "    \"\"\"\n",
    "    try:\n",
    "        with open (doc_bytes, \"r\") as my_file:\n",
    "            text = my_file.read()\n",
    "            \n",
    "            return text\n",
    "        \n",
    "    except:\n",
    "        return False\n",
    "    # Additional cleaning steps (optional)\n",
    "\n",
    "\n",
    "# Main logic for answering questions\n",
    "from transformers import pipeline\n",
    "# Load the pre-trained question answering model\n",
    "qa_model = pipeline(\"question-answering\", model=\"timpal0l/mdeberta-v3-base-squad2\")\n",
    "\n",
    "\n",
    "def answer_question(doc_bytes, question):\n",
    "    # clean_text = preprocess_document(doc_bytes)\n",
    "    # If not found in the database, use the AI model to answer the question\n",
    "    context = preprocess_document(doc_bytes)\n",
    "\n",
    "    # Check if the question is in the database\n",
    "    db_cursor = connection.cursor()\n",
    "    db_cursor.execute(\"SELECT answer FROM qa_table WHERE question = %s\", (question,))\n",
    "    result = db_cursor.fetchone()\n",
    "    if result:\n",
    "        return result[0]  # If found in the database, return the answer\n",
    "    \n",
    "\n",
    "    # If not found in the database, use the AI model to answer the question\n",
    "    answer = qa_model(question=question, context=context)[\"answer\"]\n",
    "\n",
    "    # Store the new question-answer pair in the database\n",
    "    db_cursor.execute(\"INSERT INTO qa_table (question, answer) VALUES (%s, %s)\", (question, answer))\n",
    "    connection.commit()\n",
    "\n",
    "    return answer\n",
    "\n",
    "\n",
    "# User interface setup using Gradio\n",
    "\n",
    "import gradio as gr\n",
    "\n",
    "interface = gr.Interface(\n",
    "    fn=answer_question,\n",
    "    inputs=[gr.File(label=\"Upload Document\"), \"text\"],\n",
    "    outputs=\"text\",\n",
    "    title=\"Question Answering System\",\n",
    ")\n",
    "interface.launch()\n"
   ]
  }
 ],
 "metadata": {
  "kernelspec": {
   "display_name": "Python 3",
   "language": "python",
   "name": "python3"
  },
  "language_info": {
   "codemirror_mode": {
    "name": "ipython",
    "version": 3
   },
   "file_extension": ".py",
   "mimetype": "text/x-python",
   "name": "python",
   "nbconvert_exporter": "python",
   "pygments_lexer": "ipython3",
   "version": "3.8.8"
  }
 },
 "nbformat": 4,
 "nbformat_minor": 2
}
