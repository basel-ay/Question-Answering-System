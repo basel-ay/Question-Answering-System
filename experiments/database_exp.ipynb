{
 "cells": [
  {
   "cell_type": "code",
   "execution_count": 2,
   "metadata": {},
   "outputs": [],
   "source": [
    "import mysql.connector\n",
    "from mysql.connector import Error\n"
   ]
  },
  {
   "cell_type": "code",
   "execution_count": 11,
   "metadata": {},
   "outputs": [
    {
     "name": "stdout",
     "output_type": "stream",
     "text": [
      "MySQL Database connection successful\n"
     ]
    }
   ],
   "source": [
    "def create_server_connection(host_name, user_name, user_password):\n",
    "\n",
    "    connection = None\n",
    "\n",
    "    try:\n",
    "        connection = mysql.connector.connect(\n",
    "            host=host_name,\n",
    "            user=user_name,\n",
    "            passwd=user_password,\n",
    "            auth_plugin=\"mysql_native_password\",\n",
    "            buffered=True,\n",
    "        )\n",
    "\n",
    "        print(\"MySQL Database connection successful\")\n",
    "        return connection\n",
    "\n",
    "    except Error as err:\n",
    "        print(f\"Error: {err}\")\n",
    "\n",
    "\n",
    "pw = \"qwerasdf1@\"\n",
    "connection = create_server_connection(\"localhost\", \"root\", pw)"
   ]
  },
  {
   "cell_type": "code",
   "execution_count": 4,
   "metadata": {},
   "outputs": [
    {
     "name": "stdout",
     "output_type": "stream",
     "text": [
      "Query was successful\n",
      "Query was successful\n"
     ]
    }
   ],
   "source": [
    "# # Execute sql query\n",
    "# def execute_query(connection, query):\n",
    "#     \"\"\"\n",
    "#     exqcute a specific query\n",
    "#     \"\"\"\n",
    "#     cursor = connection.cursor()\n",
    "#     try:\n",
    "#         cursor.execute(query)\n",
    "#         connection.commit()\n",
    "#         print(\"Query was successful\")\n",
    "\n",
    "#     except Error as err:\n",
    "#         print(f\"Error: '{err}'\")\n",
    "\n",
    "\n",
    "# # execute_query(connection, 'CREATE DATABASE qa_database;')\n",
    "# # execute_query(connection, 'USE qa_database;')"
   ]
  },
  {
   "cell_type": "code",
   "execution_count": 14,
   "metadata": {},
   "outputs": [
    {
     "name": "stdout",
     "output_type": "stream",
     "text": [
      "Error: 'No result set to fetch from.'\n"
     ]
    }
   ],
   "source": [
    "def execute_query(connection, query):\n",
    "    \"\"\"\n",
    "    return all results from a queries\n",
    "    \"\"\"\n",
    "    cursor = connection.cursor()\n",
    "    try:\n",
    "        cursor.execute(query)\n",
    "        results = cursor.fetchall()\n",
    "        return results\n",
    "\n",
    "    except Error as err:\n",
    "        print(f\"Error: '{err}'\")\n",
    "\n",
    "\n",
    "query = \"\"\"\n",
    "\n",
    "\n",
    "USE qa_database;\n",
    "\n",
    "\"\"\"\n",
    "execute_query(connection, query)"
   ]
  },
  {
   "cell_type": "code",
   "execution_count": 15,
   "metadata": {},
   "outputs": [
    {
     "name": "stdout",
     "output_type": "stream",
     "text": [
      "Error: '1050 (42S01): Table 'qa_table2' already exists'\n"
     ]
    }
   ],
   "source": [
    "query = \"\"\"\n",
    "\n",
    "CREATE TABLE qa_table2 (\n",
    "    question TEXT,\n",
    "    answer TEXT\n",
    ");\n",
    "\n",
    "\"\"\"\n",
    "execute_query(connection, query)"
   ]
  },
  {
   "cell_type": "code",
   "execution_count": 16,
   "metadata": {},
   "outputs": [
    {
     "data": {
      "text/plain": [
       "[('What is your name?', 'My name is Basel'),\n",
       " ('What is the capital of France?', 'Paris'),\n",
       " ('How old are you?', 'I am an AI bot'),\n",
       " ('what is education?',\n",
       "  ' offers advanced instruction in specific fields of study.'),\n",
       " ('what is education??',\n",
       "  ' offers advanced instruction in specific fields of study.')]"
      ]
     },
     "execution_count": 16,
     "metadata": {},
     "output_type": "execute_result"
    }
   ],
   "source": [
    "# Insert some common questions and answers into the database\n",
    "insert_data_query = \"\"\"\n",
    "\n",
    "INSERT INTO qa_table (question, answer) VALUES \n",
    "(\n",
    "    (\"What is your name?\", \"My name is Basel.\"),\n",
    "    (\"What is the capital of France?\", \"PSG\"),\n",
    "    (\"How old are you?\", \"I am an AI bot.\")\n",
    ");\n",
    "\n",
    "\"\"\"\n",
    "\n",
    "select_query = \"\"\"SELECT * FROM qa_table;\"\"\"\n",
    "\n",
    "execute_query(connection, select_query)"
   ]
  },
  {
   "cell_type": "code",
   "execution_count": 18,
   "metadata": {},
   "outputs": [
    {
     "data": {
      "text/plain": [
       "'My name is Basel'"
      ]
     },
     "execution_count": 18,
     "metadata": {},
     "output_type": "execute_result"
    }
   ],
   "source": [
    "question = \"What is your name?\"\n",
    "db_cursor = connection.cursor()\n",
    "db_cursor.execute(\"SELECT answer FROM qa_table WHERE question = %s\", (question,))\n",
    "result = db_cursor.fetchone()\n",
    "result[0]\n"
   ]
  },
  {
   "cell_type": "code",
   "execution_count": 43,
   "metadata": {},
   "outputs": [
    {
     "data": {
      "text/plain": [
       "['five']"
      ]
     },
     "execution_count": 43,
     "metadata": {},
     "output_type": "execute_result"
    }
   ],
   "source": [
    "import difflib \n",
    "all_questions = [\"one\",\"two\",\"three\",\"four\",\"five\"]\n",
    "most_similar_question = difflib.get_close_matches(\"fivvve\", all_questions, n=1)    \n",
    "most_similar_question"
   ]
  },
  {
   "cell_type": "code",
   "execution_count": 45,
   "metadata": {},
   "outputs": [
    {
     "data": {
      "text/plain": [
       "0.8"
      ]
     },
     "execution_count": 45,
     "metadata": {},
     "output_type": "execute_result"
    }
   ],
   "source": [
    "difflib.SequenceMatcher(None, \"fivvve\", most_similar_question[0]).ratio()"
   ]
  }
 ],
 "metadata": {
  "kernelspec": {
   "display_name": "Python 3",
   "language": "python",
   "name": "python3"
  },
  "language_info": {
   "codemirror_mode": {
    "name": "ipython",
    "version": 3
   },
   "file_extension": ".py",
   "mimetype": "text/x-python",
   "name": "python",
   "nbconvert_exporter": "python",
   "pygments_lexer": "ipython3",
   "version": "3.8.8"
  }
 },
 "nbformat": 4,
 "nbformat_minor": 2
}
