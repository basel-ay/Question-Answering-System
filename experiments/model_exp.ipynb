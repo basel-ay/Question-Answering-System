{
 "cells": [
  {
   "cell_type": "code",
   "execution_count": 6,
   "metadata": {},
   "outputs": [],
   "source": [
    "import re\n",
    "import string\n",
    "\n",
    "\n",
    "def preprocess_document(doc_bytes):\n",
    "    \"\"\"\n",
    "    Args:\n",
    "        :param doc_bytes: The document to be processed.\n",
    "\n",
    "    Returns:\n",
    "        :rtype: str\n",
    "    \"\"\"\n",
    "    try:\n",
    "        with open (doc_bytes, \"r\") as my_file:\n",
    "            text = my_file.read()\n",
    "            \n",
    "            return text\n",
    "        \n",
    "    except:\n",
    "        return False\n",
    "    # Additional cleaning steps (optional)"
   ]
  },
  {
   "cell_type": "code",
   "execution_count": 7,
   "metadata": {},
   "outputs": [],
   "source": [
    "# Main logic for answering questions\n",
    "from transformers import pipeline\n",
    "# Load the pre-trained question answering model\n",
    "qa_model = pipeline(\"question-answering\", model=\"timpal0l/mdeberta-v3-base-squad2\")\n",
    "\n",
    "\n",
    "def answer_question(doc_bytes, question):\n",
    "    # clean_text = preprocess_document(doc_bytes)\n",
    "    # If not found in the database, use the AI model to answer the question\n",
    "    context = preprocess_document(doc_bytes)\n",
    "    answer = qa_model(question=question, context=context)[\"answer\"]\n",
    "\n",
    "    return answer"
   ]
  },
  {
   "cell_type": "code",
   "execution_count": 8,
   "metadata": {},
   "outputs": [
    {
     "name": "stdout",
     "output_type": "stream",
     "text": [
      "Running on local URL:  http://127.0.0.1:7861\n",
      "\n",
      "To create a public link, set `share=True` in `launch()`.\n"
     ]
    },
    {
     "data": {
      "text/html": [
       "<div><iframe src=\"http://127.0.0.1:7861/\" width=\"100%\" height=\"500\" allow=\"autoplay; camera; microphone; clipboard-read; clipboard-write;\" frameborder=\"0\" allowfullscreen></iframe></div>"
      ],
      "text/plain": [
       "<IPython.core.display.HTML object>"
      ]
     },
     "metadata": {},
     "output_type": "display_data"
    },
    {
     "data": {
      "text/plain": []
     },
     "execution_count": 8,
     "metadata": {},
     "output_type": "execute_result"
    }
   ],
   "source": [
    "# User interface setup using Gradio\n",
    "\n",
    "import gradio as gr\n",
    "\n",
    "interface = gr.Interface(\n",
    "    fn=answer_question,\n",
    "    inputs=[gr.File(label=\"Upload Document\"), \"text\"],\n",
    "    outputs=\"text\",\n",
    "    title=\"Question Answering System\",\n",
    ")\n",
    "interface.launch()\n"
   ]
  }
 ],
 "metadata": {
  "kernelspec": {
   "display_name": "Python 3",
   "language": "python",
   "name": "python3"
  },
  "language_info": {
   "codemirror_mode": {
    "name": "ipython",
    "version": 3
   },
   "file_extension": ".py",
   "mimetype": "text/x-python",
   "name": "python",
   "nbconvert_exporter": "python",
   "pygments_lexer": "ipython3",
   "version": "3.8.8"
  }
 },
 "nbformat": 4,
 "nbformat_minor": 2
}
