{
 "cells": [
  {
   "cell_type": "code",
   "execution_count": 1,
   "metadata": {},
   "outputs": [],
   "source": [
    "import re\n",
    "import string\n",
    "\n",
    "\n",
    "def preprocess_document(doc_bytes):\n",
    "    \"\"\"\n",
    "    Args:\n",
    "        :param doc_bytes: The document to be processed.\n",
    "\n",
    "    Returns:\n",
    "        :rtype: str\n",
    "    \"\"\"\n",
    "    try:\n",
    "        with open (doc_bytes, \"r\") as my_file:\n",
    "            text = my_file.read()\n",
    "            \n",
    "            return text\n",
    "        \n",
    "    except:\n",
    "        return False\n",
    "    # Additional cleaning steps (optional)"
   ]
  },
  {
   "cell_type": "code",
   "execution_count": 16,
   "metadata": {},
   "outputs": [
    {
     "name": "stdout",
     "output_type": "stream",
     "text": [
      "Enter a valid question format\n"
     ]
    }
   ],
   "source": [
    "def is_question_format(question):\n",
    "    \"\"\"\n",
    "    Validate the format of the question.\n",
    "\n",
    "    Args:\n",
    "        question (str): The user's input string.\n",
    "\n",
    "    Returns:\n",
    "        bool: True if the input string is a valid question, False otherwise.\n",
    "    \"\"\"\n",
    "    try:\n",
    "        # Define a regex pattern to match common question structures\n",
    "        question_pattern = r\"^[^\\W\\d_]+\\s*(?:\\s+[^\\W\\d_]+)*\\s*\\?$\"\n",
    "\n",
    "        # Check if the input string matches the question pattern\n",
    "        if re.match(question_pattern, question.strip()):\n",
    "            return True\n",
    "        else:\n",
    "            return False\n",
    "    except Exception as e:\n",
    "        # Handle any errors gracefully and return False\n",
    "        # print(f\"Error validating question format: {e}\")\n",
    "        return False\n",
    "\n",
    "if not is_question_format(\"dasdf\"):\n",
    "    print(\"Enter a valid question format\")"
   ]
  },
  {
   "cell_type": "code",
   "execution_count": 5,
   "metadata": {},
   "outputs": [],
   "source": [
    "# Main logic for answering questions\n",
    "from transformers import pipeline\n",
    "# Load the pre-trained question answering model\n",
    "qa_model = pipeline(\"question-answering\", model=\"timpal0l/mdeberta-v3-base-squad2\")\n",
    "\n",
    "\n",
    "def answer_question(doc_bytes, question):\n",
    "    # clean_text = preprocess_document(doc_bytes)\n",
    "    # If not found in the database, use the AI model to answer the question\n",
    "    context = preprocess_document(doc_bytes)\n",
    "    answer = qa_model(question=question, context=context)[\"answer\"]\n",
    "\n",
    "    return answer"
   ]
  },
  {
   "cell_type": "code",
   "execution_count": 6,
   "metadata": {},
   "outputs": [
    {
     "name": "stdout",
     "output_type": "stream",
     "text": [
      "Running on local URL:  http://127.0.0.1:7861\n",
      "\n",
      "To create a public link, set `share=True` in `launch()`.\n"
     ]
    },
    {
     "data": {
      "text/html": [
       "<div><iframe src=\"http://127.0.0.1:7861/\" width=\"100%\" height=\"500\" allow=\"autoplay; camera; microphone; clipboard-read; clipboard-write;\" frameborder=\"0\" allowfullscreen></iframe></div>"
      ],
      "text/plain": [
       "<IPython.core.display.HTML object>"
      ]
     },
     "metadata": {},
     "output_type": "display_data"
    },
    {
     "data": {
      "text/plain": []
     },
     "execution_count": 6,
     "metadata": {},
     "output_type": "execute_result"
    },
    {
     "name": "stderr",
     "output_type": "stream",
     "text": [
      "Traceback (most recent call last):\n",
      "  File \"c:\\Users\\BA\\anaconda3\\lib\\site-packages\\gradio\\queueing.py\", line 495, in call_prediction\n",
      "    output = await route_utils.call_process_api(\n",
      "  File \"c:\\Users\\BA\\anaconda3\\lib\\site-packages\\gradio\\route_utils.py\", line 235, in call_process_api\n",
      "    output = await app.get_blocks().process_api(\n",
      "  File \"c:\\Users\\BA\\anaconda3\\lib\\site-packages\\gradio\\blocks.py\", line 1627, in process_api\n",
      "    result = await self.call_function(\n",
      "  File \"c:\\Users\\BA\\anaconda3\\lib\\site-packages\\gradio\\blocks.py\", line 1173, in call_function\n",
      "    prediction = await anyio.to_thread.run_sync(\n",
      "  File \"c:\\Users\\BA\\anaconda3\\lib\\site-packages\\anyio\\to_thread.py\", line 31, in run_sync\n",
      "    return await get_asynclib().run_sync_in_worker_thread(\n",
      "  File \"c:\\Users\\BA\\anaconda3\\lib\\site-packages\\anyio\\_backends\\_asyncio.py\", line 937, in run_sync_in_worker_thread\n",
      "    return await future\n",
      "  File \"c:\\Users\\BA\\anaconda3\\lib\\site-packages\\anyio\\_backends\\_asyncio.py\", line 867, in run\n",
      "    result = context.run(func, *args)\n",
      "  File \"c:\\Users\\BA\\anaconda3\\lib\\site-packages\\gradio\\utils.py\", line 690, in wrapper\n",
      "    response = f(*args, **kwargs)\n",
      "  File \"<ipython-input-5-a5f98a94cb45>\", line 11, in answer_question\n",
      "    answer = qa_model(question=question, context=context)[\"answer\"]\n",
      "  File \"c:\\Users\\BA\\anaconda3\\lib\\site-packages\\transformers\\pipelines\\question_answering.py\", line 391, in __call__\n",
      "    examples = self._args_parser(*args, **kwargs)\n",
      "  File \"c:\\Users\\BA\\anaconda3\\lib\\site-packages\\transformers\\pipelines\\question_answering.py\", line 200, in __call__\n",
      "    raise ValueError(\"Arguments can't be understood\")\n",
      "ValueError: Arguments can't be understood\n",
      "Traceback (most recent call last):\n",
      "  File \"c:\\Users\\BA\\anaconda3\\lib\\site-packages\\gradio\\queueing.py\", line 495, in call_prediction\n",
      "    output = await route_utils.call_process_api(\n",
      "  File \"c:\\Users\\BA\\anaconda3\\lib\\site-packages\\gradio\\route_utils.py\", line 235, in call_process_api\n",
      "    output = await app.get_blocks().process_api(\n",
      "  File \"c:\\Users\\BA\\anaconda3\\lib\\site-packages\\gradio\\blocks.py\", line 1627, in process_api\n",
      "    result = await self.call_function(\n",
      "  File \"c:\\Users\\BA\\anaconda3\\lib\\site-packages\\gradio\\blocks.py\", line 1173, in call_function\n",
      "    prediction = await anyio.to_thread.run_sync(\n",
      "  File \"c:\\Users\\BA\\anaconda3\\lib\\site-packages\\anyio\\to_thread.py\", line 31, in run_sync\n",
      "    return await get_asynclib().run_sync_in_worker_thread(\n",
      "  File \"c:\\Users\\BA\\anaconda3\\lib\\site-packages\\anyio\\_backends\\_asyncio.py\", line 937, in run_sync_in_worker_thread\n",
      "    return await future\n",
      "  File \"c:\\Users\\BA\\anaconda3\\lib\\site-packages\\anyio\\_backends\\_asyncio.py\", line 867, in run\n",
      "    result = context.run(func, *args)\n",
      "  File \"c:\\Users\\BA\\anaconda3\\lib\\site-packages\\gradio\\utils.py\", line 690, in wrapper\n",
      "    response = f(*args, **kwargs)\n",
      "  File \"<ipython-input-5-a5f98a94cb45>\", line 11, in answer_question\n",
      "    answer = qa_model(question=question, context=context)[\"answer\"]\n",
      "  File \"c:\\Users\\BA\\anaconda3\\lib\\site-packages\\transformers\\pipelines\\question_answering.py\", line 391, in __call__\n",
      "    examples = self._args_parser(*args, **kwargs)\n",
      "  File \"c:\\Users\\BA\\anaconda3\\lib\\site-packages\\transformers\\pipelines\\question_answering.py\", line 200, in __call__\n",
      "    raise ValueError(\"Arguments can't be understood\")\n",
      "ValueError: Arguments can't be understood\n",
      "Traceback (most recent call last):\n",
      "  File \"c:\\Users\\BA\\anaconda3\\lib\\site-packages\\gradio\\queueing.py\", line 495, in call_prediction\n",
      "    output = await route_utils.call_process_api(\n",
      "  File \"c:\\Users\\BA\\anaconda3\\lib\\site-packages\\gradio\\route_utils.py\", line 235, in call_process_api\n",
      "    output = await app.get_blocks().process_api(\n",
      "  File \"c:\\Users\\BA\\anaconda3\\lib\\site-packages\\gradio\\blocks.py\", line 1627, in process_api\n",
      "    result = await self.call_function(\n",
      "  File \"c:\\Users\\BA\\anaconda3\\lib\\site-packages\\gradio\\blocks.py\", line 1173, in call_function\n",
      "    prediction = await anyio.to_thread.run_sync(\n",
      "  File \"c:\\Users\\BA\\anaconda3\\lib\\site-packages\\anyio\\to_thread.py\", line 31, in run_sync\n",
      "    return await get_asynclib().run_sync_in_worker_thread(\n",
      "  File \"c:\\Users\\BA\\anaconda3\\lib\\site-packages\\anyio\\_backends\\_asyncio.py\", line 937, in run_sync_in_worker_thread\n",
      "    return await future\n",
      "  File \"c:\\Users\\BA\\anaconda3\\lib\\site-packages\\anyio\\_backends\\_asyncio.py\", line 867, in run\n",
      "    result = context.run(func, *args)\n",
      "  File \"c:\\Users\\BA\\anaconda3\\lib\\site-packages\\gradio\\utils.py\", line 690, in wrapper\n",
      "    response = f(*args, **kwargs)\n",
      "  File \"<ipython-input-5-a5f98a94cb45>\", line 11, in answer_question\n",
      "    answer = qa_model(question=question, context=context)[\"answer\"]\n",
      "  File \"c:\\Users\\BA\\anaconda3\\lib\\site-packages\\transformers\\pipelines\\question_answering.py\", line 391, in __call__\n",
      "    examples = self._args_parser(*args, **kwargs)\n",
      "  File \"c:\\Users\\BA\\anaconda3\\lib\\site-packages\\transformers\\pipelines\\question_answering.py\", line 200, in __call__\n",
      "    raise ValueError(\"Arguments can't be understood\")\n",
      "ValueError: Arguments can't be understood\n"
     ]
    }
   ],
   "source": [
    "# User interface setup using Gradio\n",
    "\n",
    "import gradio as gr\n",
    "\n",
    "interface = gr.Interface(\n",
    "    fn=answer_question,\n",
    "    inputs=[gr.File(label=\"Upload Document\"), \"text\"],\n",
    "    outputs=\"text\",\n",
    "    title=\"Question Answering System\",\n",
    ")\n",
    "interface.launch()\n"
   ]
  }
 ],
 "metadata": {
  "kernelspec": {
   "display_name": "Python 3",
   "language": "python",
   "name": "python3"
  },
  "language_info": {
   "codemirror_mode": {
    "name": "ipython",
    "version": 3
   },
   "file_extension": ".py",
   "mimetype": "text/x-python",
   "name": "python",
   "nbconvert_exporter": "python",
   "pygments_lexer": "ipython3",
   "version": "3.8.8"
  }
 },
 "nbformat": 4,
 "nbformat_minor": 2
}
